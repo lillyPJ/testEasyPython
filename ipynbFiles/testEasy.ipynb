{
 "cells": [
  {
   "cell_type": "markdown",
   "metadata": {},
   "source": [
    "# Test some easy operations"
   ]
  },
  {
   "cell_type": "markdown",
   "metadata": {},
   "source": [
    "<font face=\"STCAIYUN\" color=#0000FF size=5 >functions summarized: </font>\n",
    "1. **get filelist**: glob"
   ]
  },
  {
   "cell_type": "code",
   "execution_count": 62,
   "metadata": {
    "collapsed": false
   },
   "outputs": [
    {
     "name": "stdout",
     "output_type": "stream",
     "text": [
      "['/home/lili/codes/makeVocDatasets/']\n"
     ]
    }
   ],
   "source": [
    "import glob\n",
    "\n",
    "filelist = glob.glob('/home/lili/codes/makeVocDatasets/')\n",
    "print filelist"
   ]
  },
  {
   "cell_type": "code",
   "execution_count": 63,
   "metadata": {
    "collapsed": false
   },
   "outputs": [
    {
     "name": "stdout",
     "output_type": "stream",
     "text": [
      "/home/lili/codes/makeVocDatasets/datasets/boat5/gt_txt\n"
     ]
    }
   ],
   "source": [
    "import os\n",
    "ingtdir = '/home/lili/codes/makeVocDatasets/datasets/boat5/gt_total_txt/'\n",
    "outgtdir = os.path.split(ingtdir[:-1])[0] + '/gt_txt'\n",
    "print outgtdir"
   ]
  },
  {
   "cell_type": "code",
   "execution_count": 64,
   "metadata": {
    "collapsed": false
   },
   "outputs": [
    {
     "name": "stdout",
     "output_type": "stream",
     "text": [
      "/home/lili/codes/makeVocDatasets/datasets\n",
      "/home/lili/codes/makeVocDatasets/datasets/boat5_VOC/\n"
     ]
    }
   ],
   "source": [
    "import os\n",
    "\n",
    "dataset = '/home/lili/codes/makeVocDatasets/datasets/boat5/'\n",
    "dirname, basename = os.path.split(dataset[:-1])\n",
    "dataset_new = dirname + '/' + basename + '_VOC/'\n",
    "print dirname\n",
    "print dataset_new"
   ]
  },
  {
   "cell_type": "code",
   "execution_count": 65,
   "metadata": {
    "collapsed": true
   },
   "outputs": [],
   "source": [
    "a = 10\n",
    "b = 20\n",
    "s = \"good\""
   ]
  },
  {
   "cell_type": "code",
   "execution_count": 66,
   "metadata": {
    "collapsed": false
   },
   "outputs": [
    {
     "data": {
      "text/plain": [
       "'good/JPEGImages/10.jpg good/Annotations/20.xml'"
      ]
     },
     "execution_count": 66,
     "metadata": {},
     "output_type": "execute_result"
    }
   ],
   "source": [
    "\"%s/JPEGImages/%d.jpg %s/Annotations/%d.xml\" %(s, a, s, b)"
   ]
  },
  {
   "cell_type": "code",
   "execution_count": 67,
   "metadata": {
    "collapsed": true
   },
   "outputs": [],
   "source": [
    "import shutil"
   ]
  },
  {
   "cell_type": "code",
   "execution_count": 68,
   "metadata": {
    "collapsed": false
   },
   "outputs": [],
   "source": [
    "shutil.copytree('/home/lili/codes/testPython/images','/home/lili/codes/testPython/txt/newI')"
   ]
  },
  {
   "cell_type": "code",
   "execution_count": 69,
   "metadata": {
    "collapsed": false
   },
   "outputs": [],
   "source": [
    "shutil.copy('/home/lili/codes/testPython/images/result/test.jpg','/home/lili/codes/testPython/txt/')"
   ]
  },
  {
   "cell_type": "code",
   "execution_count": 70,
   "metadata": {
    "collapsed": false
   },
   "outputs": [
    {
     "data": {
      "text/plain": [
       "'20170104171737991725'"
      ]
     },
     "execution_count": 70,
     "metadata": {},
     "output_type": "execute_result"
    }
   ],
   "source": [
    "import re\n",
    "import datetime\n",
    "re.sub(r'[^0-9]','',str(datetime.datetime.now()))"
   ]
  },
  {
   "cell_type": "code",
   "execution_count": 71,
   "metadata": {
    "collapsed": false
   },
   "outputs": [
    {
     "data": {
      "text/plain": [
       "'2017-01-04 17:17:38.011933'"
      ]
     },
     "execution_count": 71,
     "metadata": {},
     "output_type": "execute_result"
    }
   ],
   "source": [
    "str(datetime.datetime.now())"
   ]
  },
  {
   "cell_type": "code",
   "execution_count": 72,
   "metadata": {
    "collapsed": true
   },
   "outputs": [],
   "source": [
    "import xml.etree.ElementTree as ET\n",
    "xmlfile = '/home/lili/datasets/ICDAR2011/gt/test/xml/word.xml'"
   ]
  },
  {
   "cell_type": "code",
   "execution_count": 73,
   "metadata": {
    "collapsed": true
   },
   "outputs": [],
   "source": [
    "tree = ET.ElementTree(file = xmlfile)"
   ]
  },
  {
   "cell_type": "code",
   "execution_count": 74,
   "metadata": {
    "collapsed": false
   },
   "outputs": [
    {
     "data": {
      "text/plain": [
       "<xml.etree.ElementTree.ElementTree at 0x7f202b3eaf10>"
      ]
     },
     "execution_count": 74,
     "metadata": {},
     "output_type": "execute_result"
    }
   ],
   "source": [
    "tree"
   ]
  },
  {
   "cell_type": "code",
   "execution_count": 75,
   "metadata": {
    "collapsed": true
   },
   "outputs": [],
   "source": [
    "root = tree.getroot()   "
   ]
  },
  {
   "cell_type": "code",
   "execution_count": 76,
   "metadata": {
    "collapsed": false
   },
   "outputs": [
    {
     "data": {
      "text/plain": [
       "xml.etree.ElementTree.Element"
      ]
     },
     "execution_count": 76,
     "metadata": {},
     "output_type": "execute_result"
    }
   ],
   "source": [
    "type(root)"
   ]
  },
  {
   "cell_type": "code",
   "execution_count": 77,
   "metadata": {
    "collapsed": false
   },
   "outputs": [
    {
     "data": {
      "text/plain": [
       "'tagset'"
      ]
     },
     "execution_count": 77,
     "metadata": {},
     "output_type": "execute_result"
    }
   ],
   "source": [
    "root.tag"
   ]
  },
  {
   "cell_type": "code",
   "execution_count": 78,
   "metadata": {
    "collapsed": false
   },
   "outputs": [
    {
     "data": {
      "text/plain": [
       "{}"
      ]
     },
     "execution_count": 78,
     "metadata": {},
     "output_type": "execute_result"
    }
   ],
   "source": [
    "root.attrib"
   ]
  },
  {
   "cell_type": "code",
   "execution_count": 79,
   "metadata": {
    "collapsed": false
   },
   "outputs": [
    {
     "data": {
      "text/plain": [
       "'960'"
      ]
     },
     "execution_count": 79,
     "metadata": {},
     "output_type": "execute_result"
    }
   ],
   "source": [
    "root[0][1].attrib['width']"
   ]
  },
  {
   "cell_type": "code",
   "execution_count": 80,
   "metadata": {
    "collapsed": false
   },
   "outputs": [
    {
     "data": {
      "text/plain": [
       "'test/101.jpg'"
      ]
     },
     "execution_count": 80,
     "metadata": {},
     "output_type": "execute_result"
    }
   ],
   "source": [
    "root[0][0].text"
   ]
  },
  {
   "cell_type": "code",
   "execution_count": 81,
   "metadata": {
    "collapsed": false
   },
   "outputs": [
    {
     "data": {
      "text/plain": [
       "'1'"
      ]
     },
     "execution_count": 81,
     "metadata": {},
     "output_type": "execute_result"
    }
   ],
   "source": [
    "root[0][2][0].attrib['x']"
   ]
  },
  {
   "cell_type": "code",
   "execution_count": 82,
   "metadata": {
    "collapsed": false
   },
   "outputs": [
    {
     "data": {
      "text/plain": [
       "<Element 'image' at 0x7f202b3ea350>"
      ]
     },
     "execution_count": 82,
     "metadata": {},
     "output_type": "execute_result"
    }
   ],
   "source": [
    "root[0]"
   ]
  },
  {
   "cell_type": "code",
   "execution_count": 83,
   "metadata": {
    "collapsed": false
   },
   "outputs": [
    {
     "data": {
      "text/plain": [
       "int"
      ]
     },
     "execution_count": 83,
     "metadata": {},
     "output_type": "execute_result"
    }
   ],
   "source": [
    "type(int('23'))"
   ]
  },
  {
   "cell_type": "code",
   "execution_count": 111,
   "metadata": {
    "collapsed": false
   },
   "outputs": [],
   "source": [
    "tree = ET.ElementTree(file=xmlfile)\n",
    "root = tree.getroot()\n",
    "imgs = []\n",
    "boxes = []\n",
    "for eachImg in root:\n",
    "    img = eachImg[0].text\n",
    "    nbox = int(eachImg[2].attrib['nTaggedRectangle'])\n",
    "    box = []\n",
    "    for ibox in range(nbox):\n",
    "        x = int(eachImg[2][ibox].attrib['x'])\n",
    "        y = int(eachImg[2][ibox].attrib['y'])\n",
    "        w = int(eachImg[2][ibox].attrib['width'])\n",
    "        h = int(eachImg[2][ibox].attrib['height'])\n",
    "        box.append([x, y, w, h])\n",
    "    imgs.append(img)\n",
    "    boxes.append([nbox, box])\n",
    "imgBoxes = dict(zip(imgs, boxes))"
   ]
  },
  {
   "cell_type": "code",
   "execution_count": 114,
   "metadata": {
    "collapsed": false
   },
   "outputs": [
    {
     "data": {
      "text/plain": [
       "[[1, 699, 81, 132],\n",
       " [123, 705, 361, 135],\n",
       " [537, 705, 401, 135],\n",
       " [83, 881, 377, 143],\n",
       " [516, 922, 318, 103],\n",
       " [525, 1068, 221, 140],\n",
       " [161, 1096, 309, 138],\n",
       " [35, 45, 886, 171],\n",
       " [273, 261, 392, 191]]"
      ]
     },
     "execution_count": 114,
     "metadata": {},
     "output_type": "execute_result"
    }
   ],
   "source": [
    "imgBoxes[imgs[0]][1]"
   ]
  },
  {
   "cell_type": "code",
   "execution_count": 119,
   "metadata": {
    "collapsed": false
   },
   "outputs": [],
   "source": [
    "import matplotlib.pyplot as plt\n",
    "import numpy as np\n",
    "colors = plt.cm.hsv(np.linspace(0, 1, 21)).tolist()"
   ]
  },
  {
   "cell_type": "code",
   "execution_count": 120,
   "metadata": {
    "collapsed": false
   },
   "outputs": [
    {
     "data": {
      "text/plain": [
       "[[1.0, 0.0, 0.0, 1.0],\n",
       " [1.0, 0.2779414544120426, 0.0, 1.0],\n",
       " [1.0, 0.5790446966917554, 0.0, 1.0],\n",
       " [1.0, 0.8801479389714684, 0.0, 1.0],\n",
       " [0.8187488187488188, 1.0, 0.0, 1.0],\n",
       " [0.5176455764691059, 1.0, 0.0, 1.0],\n",
       " [0.23970412205706326, 1.0, 0.0, 1.0],\n",
       " [0.0003669599257835228, 1.0, 0.061766080148432954, 1.0],\n",
       " [0.0, 1.0, 0.3625004724974957, 1.0],\n",
       " [0.0, 1.0, 0.6636018178368361, 1.0],\n",
       " [0.0, 1.0, 0.9647031631761764, 1.0],\n",
       " [0.0, 0.7573556047820753, 1.0, 1.0],\n",
       " [0.0, 0.4562523625023627, 1.0, 1.0],\n",
       " [0.0, 0.15514912022264993, 1.0, 1.0],\n",
       " [0.14595412205706287, 0.0, 1.0, 1.0],\n",
       " [0.44705736433677606, 0.0, 1.0, 1.0],\n",
       " [0.724998818748819, 0.0, 1.0, 1.0],\n",
       " [0.9878673536761773, 0.0, 0.9617652926476454, 1.0],\n",
       " [1.0, 0.0, 0.6727946966917553, 1.0],\n",
       " [1.0, 0.0, 0.37169145441204254, 1.0],\n",
       " [1.0, 0.0, 0.09375, 1.0]]"
      ]
     },
     "execution_count": 120,
     "metadata": {},
     "output_type": "execute_result"
    }
   ],
   "source": [
    "colors"
   ]
  },
  {
   "cell_type": "code",
   "execution_count": 121,
   "metadata": {
    "collapsed": false
   },
   "outputs": [
    {
     "ename": "ImportError",
     "evalue": "No module named evalResults",
     "output_type": "error",
     "traceback": [
      "\u001b[0;31m---------------------------------------------------------------------------\u001b[0m",
      "\u001b[0;31mImportError\u001b[0m                               Traceback (most recent call last)",
      "\u001b[0;32m<ipython-input-121-9c9ae33bc672>\u001b[0m in \u001b[0;36m<module>\u001b[0;34m()\u001b[0m\n\u001b[1;32m      9\u001b[0m \u001b[0;32mimport\u001b[0m \u001b[0mxml\u001b[0m\u001b[0;34m.\u001b[0m\u001b[0metree\u001b[0m\u001b[0;34m.\u001b[0m\u001b[0mElementTree\u001b[0m \u001b[0;32mas\u001b[0m \u001b[0mET\u001b[0m\u001b[0;34m\u001b[0m\u001b[0m\n\u001b[1;32m     10\u001b[0m \u001b[0;32mimport\u001b[0m \u001b[0mnumpy\u001b[0m \u001b[0;32mas\u001b[0m \u001b[0mnp\u001b[0m\u001b[0;34m\u001b[0m\u001b[0m\n\u001b[0;32m---> 11\u001b[0;31m \u001b[0;32mfrom\u001b[0m \u001b[0mevalResults\u001b[0m \u001b[0;32mimport\u001b[0m \u001b[0mevalDetBox3\u001b[0m\u001b[0;34m\u001b[0m\u001b[0m\n\u001b[0m\u001b[1;32m     12\u001b[0m \u001b[0;34m\u001b[0m\u001b[0m\n\u001b[1;32m     13\u001b[0m \u001b[0;32mdef\u001b[0m \u001b[0mreadBoxFromXml\u001b[0m\u001b[0;34m(\u001b[0m\u001b[0mxmlfile\u001b[0m\u001b[0;34m)\u001b[0m\u001b[0;34m:\u001b[0m\u001b[0;34m\u001b[0m\u001b[0m\n",
      "\u001b[0;31mImportError\u001b[0m: No module named evalResults"
     ]
    }
   ],
   "source": [
    "#coding=utf-8\n",
    "#!/usr/bin/env python\n",
    "'''read two xml(test and groundTruth file), output the evaluation score:\n",
    "recall, precision, fmeasure, dt, gt\n",
    "input file(Detval format, xml): x, y, w, h\n",
    "output file: result/test.txt\n",
    "'''\n",
    "import os\n",
    "import xml.etree.ElementTree as ET\n",
    "import numpy as np\n",
    "from evalResults import evalDetBox3\n",
    "\n",
    "def readBoxFromXml(xmlfile):\n",
    "    tree = ET.ElementTree(file=xmlfile)\n",
    "    root = tree.getroot()\n",
    "    boxes = []\n",
    "    imgnames = []\n",
    "    for eachImg in root:\n",
    "        imgname = eachImg[0].text\n",
    "        nbox = int(eachImg[2].attrib['nTaggedRectangle'])\n",
    "        box = []\n",
    "        for ibox in range(nbox):\n",
    "            x = int(eachImg[2][ibox].attrib['x'])\n",
    "            y = int(eachImg[2][ibox].attrib['y'])\n",
    "            w = int(eachImg[2][ibox].attrib['width'])\n",
    "            h = int(eachImg[2][ibox].attrib['height'])\n",
    "            box.append([x, y, w, h])\n",
    "        imgnames.append(imgname)\n",
    "        boxes.append(box)\n",
    "\n",
    "    return (boxes, imgnames)\n",
    "\n",
    "\n",
    "gtXml = '/home/lili/datasets/ICDAR2011/gt/test/xml/word.xml'\n",
    "testXml = '/home/lili/codes/ssd/caffe-ssd/ICDAR2011/result/20170104162245057135.xml'\n",
    "evaluateXmlDet(testXml, gtXml)\n",
    "\n",
    "# evaluate each image\n",
    "dt_boxes, imgnames = readBoxFromXml(testXml)\n",
    "gt_boxes, imgnames = readBoxFromXml(gtXml)\n",
    "dt_boxes = np.array(dt_boxes)\n",
    "gt_boxes = np.array(gt_boxes)\n",
    "dt_boxes[:, 2:3] = dt_boxes[:, 0:1] + dt_boxes[:, 2:3]\n",
    "gt_boxes[:, 2:3] = gt_boxes[:, 0:1] + gt_boxes[:, 2:3]\n",
    "eval_all = []\n",
    "dt_all = []\n",
    "gt_all = []\n",
    "for dt_bbs, gt_bbs in zip(dt_boxes, gt_boxes):\n",
    "    eval_each = evalDetBox3(dt_bbs, gt_bbs) #(recall, precision, fscore, dt, gt)\n",
    "    eval_all.append(eval_each)\n",
    "    dt_all.extend(eval_each[3])\n",
    "    gt_all.extend(eval_each[4])\n",
    "pass\n",
    "# calculate average on all images\n",
    "avg_recall = sum(dt_all)/len(dt_all)*100\n",
    "avg_precision = sum(gt_all)/len(gt_all)*100\n",
    "if avg_recall==0 or avg_precision==0:\n",
    "    avg_fscore = 0\n",
    "else:\n",
    "    avg_fscore = 2/(1/avg_recall + 1/avg_precision)\n",
    "# write the the result txt file\n",
    "result_txt_dir = './result/'\n",
    "result_txt_file = os.path.splitext(os.path.basename(testXml))[0] + '.txt'\n",
    "if not os.path.exists(result_txt_dir):\n",
    "    os.mkdir(result_txt_dir)\n",
    "with open(result_txt_dir + result_txt_file, 'w') as f:\n",
    "    for index, item in enumerate(eval_each):\n",
    "        f.write(\"%s: re = %.3f, pre = %.3f, f = %.3f\\n\" % (imgnames[index], item[0], item[1], item[2]) )\n",
    "        print (\"%s: re = %.3f, pre = %.3f, f = %.3f\\n\" % (imgnames[index], item[0], item[1], item[2]) )\n",
    "    f.write(\"\\naverage: re = %.3f, pre = %.3f, f = %.3f\\n\" % (avg_recall, avg_precision, avg_fscore) )\n",
    "f.write(\"\\naverage: re = %.3f, pre = %.3f, f = %.3f\\n\" % (avg_recall, avg_precision, avg_fscore))\n",
    "\n"
   ]
  },
  {
   "cell_type": "code",
   "execution_count": 128,
   "metadata": {
    "collapsed": false
   },
   "outputs": [
    {
     "data": {
      "text/plain": [
       "int"
      ]
     },
     "execution_count": 128,
     "metadata": {},
     "output_type": "execute_result"
    }
   ],
   "source": [
    "dic = {'a':31, 'bc':5, 'c':3, 'asd':4, 'aa':74, 'd':0}\n",
    "dict= sorted(dic.iteritems(), key=lambda d:d[0])\n",
    "type(dict[0][1])"
   ]
  },
  {
   "cell_type": "code",
   "execution_count": 13,
   "metadata": {
    "collapsed": true
   },
   "outputs": [],
   "source": [
    "srcdir = '/home/lili/codes/testPython/txt'\n",
    "destdir = '/home/lili/Desktop/test/sub'"
   ]
  },
  {
   "cell_type": "code",
   "execution_count": 14,
   "metadata": {
    "collapsed": false
   },
   "outputs": [
    {
     "ename": "OSError",
     "evalue": "[Errno 2] No such file or directory",
     "output_type": "error",
     "traceback": [
      "\u001b[0;31m---------------------------------------------------------------------------\u001b[0m",
      "\u001b[0;31mOSError\u001b[0m                                   Traceback (most recent call last)",
      "\u001b[0;32m<ipython-input-14-89fb22b89ac3>\u001b[0m in \u001b[0;36m<module>\u001b[0;34m()\u001b[0m\n\u001b[1;32m      1\u001b[0m \u001b[0;32mimport\u001b[0m \u001b[0mos\u001b[0m\u001b[0;34m\u001b[0m\u001b[0m\n\u001b[0;32m----> 2\u001b[0;31m \u001b[0mos\u001b[0m\u001b[0;34m.\u001b[0m\u001b[0msymlink\u001b[0m\u001b[0;34m(\u001b[0m\u001b[0msrcdir\u001b[0m\u001b[0;34m,\u001b[0m \u001b[0mdestdir\u001b[0m\u001b[0;34m)\u001b[0m\u001b[0;34m\u001b[0m\u001b[0m\n\u001b[0m",
      "\u001b[0;31mOSError\u001b[0m: [Errno 2] No such file or directory"
     ]
    }
   ],
   "source": [
    "import os\n",
    "os.symlink(srcdir, destdir)"
   ]
  },
  {
   "cell_type": "code",
   "execution_count": null,
   "metadata": {
    "collapsed": true
   },
   "outputs": [],
   "source": []
  }
 ],
 "metadata": {
  "kernelspec": {
   "display_name": "Python 2",
   "language": "python",
   "name": "python2"
  },
  "language_info": {
   "codemirror_mode": {
    "name": "ipython",
    "version": 2
   },
   "file_extension": ".py",
   "mimetype": "text/x-python",
   "name": "python",
   "nbconvert_exporter": "python",
   "pygments_lexer": "ipython2",
   "version": "2.7.12"
  }
 },
 "nbformat": 4,
 "nbformat_minor": 2
}
